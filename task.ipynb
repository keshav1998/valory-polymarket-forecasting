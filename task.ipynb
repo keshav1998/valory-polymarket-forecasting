{
 "cells": [
  {
   "cell_type": "markdown",
   "metadata": {},
   "source": [
    "# LLM CAPABILITIES IN PREDICTION TASKS"
   ]
  },
  {
   "cell_type": "markdown",
   "metadata": {},
   "source": [
    "## LOAD CLIENT"
   ]
  },
  {
   "cell_type": "code",
   "execution_count": null,
   "metadata": {},
   "outputs": [],
   "source": [
    "import json\n",
    "from ollama import Client\n",
    "\n",
    "# Initialize the client\n",
    "client = Client(host='http://localhost:11434', timeout=30)"
   ]
  },
  {
   "cell_type": "code",
   "execution_count": null,
   "metadata": {},
   "outputs": [],
   "source": [
    "def generate_response(prompt):\n",
    "    \"\"\"\n",
    "    Generates a response using the Ollama API.\n",
    "    \"\"\"\n",
    "    response = client.generate( model='mistral',\n",
    "                prompt = prompt,\n",
    "                format=\"json\")\n",
    "    return json.loads(response[\"response\"])\n",
    "\n",
    "\n",
    "def view_response(prompt):\n",
    "    \"\"\"\n",
    "    Views a response using the Ollama API, in a structured format.\n",
    "    \"\"\"\n",
    "    response = generate_response(prompt)\n",
    "    print(json.dumps(response, indent=2))"
   ]
  },
  {
   "cell_type": "markdown",
   "metadata": {},
   "source": [
    "## PROMPT ENGINEERING"
   ]
  },
  {
   "cell_type": "markdown",
   "metadata": {},
   "source": [
    "### Designing a simple System prompt and just giving the response type"
   ]
  },
  {
   "cell_type": "code",
   "execution_count": null,
   "metadata": {},
   "outputs": [],
   "source": [
    "SYSTEM_PROMPT = (\n",
    "    \"You are an expert superforecaster, familiar with the work of Tetlock and others. \"\n",
    ")\n",
    "def base_prompt(query):\n",
    "    prompt = (\n",
    "        SYSTEM_PROMPT\n",
    "        + \"\\n\\n\"\n",
    "        + \"QUESTION: \" + query\n",
    "        + \"\\n\\n\"\n",
    "        + \"Return a structured response in JSON format\"\n",
    "        + \"containing the probability of the yes/no response to the question and a\"\n",
    "        + \"measure of confidence between 0 and 1.\"\n",
    "    )\n",
    "    return (\n",
    "        prompt\n",
    "    )"
   ]
  },
  {
   "cell_type": "code",
   "execution_count": null,
   "metadata": {},
   "outputs": [
    {
     "name": "stdout",
     "output_type": "stream",
     "text": [
      "{\n",
      "  \"question\": \"Will the Liberal Party win the most seats in the 2021 Canadian federal election?\",\n",
      "  \"answer\": {\n",
      "    \"yes\": 0.6,\n",
      "    \"no\": 0.4,\n",
      "    \"uncertainty\": 0.2,\n",
      "    \"confidence\": 0.9\n",
      "  },\n",
      "  \"explanation\": \"Based on current polling trends and historical voting patterns, the Liberal Party has a 60% chance (0.6) of winning the most seats in the 2021 Canadian federal election. The opposing Conservative Party has a 40% chance (0.4). This analysis is based on available data up to the current date and assumes no significant changes in public opinion or events between now and the election. The uncertainty factor is set at 10%, indicating a moderate level of confidence in this forecast.\"\n",
      "}\n"
     ]
    }
   ],
   "source": [
    "prompt = base_prompt(\"Will the Liberal Party win the most seats in the 2021 Canadian federal election?\")\n",
    "view_response(prompt)"
   ]
  },
  {
   "cell_type": "code",
   "execution_count": null,
   "metadata": {},
   "outputs": [
    {
     "name": "stdout",
     "output_type": "stream",
     "text": [
      "{\n",
      "  \"question\": \"Will the Liberal Party win the most seats in the 2021 Canadian federal election?\",\n",
      "  \"answer\": {\n",
      "    \"yes\": 0.65,\n",
      "    \"no\": 0.35\n",
      "  },\n",
      "  \"confidence\": 0.8,\n",
      "  \"explanation\": \"Based on current polling data and historical trends, the Liberal Party has a 65% chance of winning the most seats in the 2021 Canadian federal election. However, elections are subject to uncertainties and unexpected events. The confidence level for this prediction is 80%.\"\n",
      "}\n"
     ]
    }
   ],
   "source": [
    "prompt = base_prompt(\"Will the Liberal Party win the most seats in the 2021 Canadian federal election?\")\n",
    "view_response(prompt)"
   ]
  },
  {
   "cell_type": "code",
   "execution_count": null,
   "metadata": {},
   "outputs": [
    {
     "name": "stdout",
     "output_type": "stream",
     "text": [
      "{\n",
      "  \"question\": \"Will the Liberal Party win the most seats in the 2021 Canadian federal election?\",\n",
      "  \"answer\": {\n",
      "    \"yes\": 0.6,\n",
      "    \"no\": 0.4,\n",
      "    \"confidence\": 0.8\n",
      "  },\n",
      "  \"explanation\": \"Based on current polling data and historical voting trends, there is a 60% chance that the Liberal Party will win the most seats in the 2021 Canadian federal election. The confidence level for this prediction is high at 80%, but elections are inherently uncertain and events beyond our control may influence the outcome.\"\n",
      "}\n"
     ]
    }
   ],
   "source": [
    "prompt = base_prompt(\"Will the Liberal Party win the most seats in the 2021 Canadian federal election?\")\n",
    "view_response(prompt)"
   ]
  },
  {
   "cell_type": "markdown",
   "metadata": {},
   "source": [
    "#### NOTE: The responses vary to certain length both in reasoning and confidence. The strcuture of the json changes at times and is not consistent."
   ]
  }
 ],
 "metadata": {
  "language_info": {
   "name": "python"
  }
 },
 "nbformat": 4,
 "nbformat_minor": 2
}
