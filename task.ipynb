{
 "cells": [
  {
   "cell_type": "markdown",
   "metadata": {},
   "source": [
    "# LLM CAPABILITIES IN PREDICTION TASKS"
   ]
  },
  {
   "cell_type": "markdown",
   "metadata": {},
   "source": [
    "## LOAD CLIENT"
   ]
  },
  {
   "cell_type": "code",
   "execution_count": 13,
   "metadata": {},
   "outputs": [],
   "source": [
    "import json\n",
    "from ollama import Client\n",
    "\n",
    "# Initialize the client\n",
    "client = Client(host='http://localhost:11434', timeout=30)"
   ]
  },
  {
   "cell_type": "code",
   "execution_count": 3,
   "metadata": {},
   "outputs": [],
   "source": [
    "def generate_response(prompt):\n",
    "    \"\"\"\n",
    "    Generates a response using the Ollama API.\n",
    "    \"\"\"\n",
    "    response = client.generate( model='mistral',\n",
    "                prompt = prompt,\n",
    "                format=\"json\")\n",
    "    return json.loads(response[\"response\"])\n",
    "\n",
    "\n",
    "def view_response(prompt):\n",
    "    \"\"\"\n",
    "    Views a response using the Ollama API, in a structured format.\n",
    "    \"\"\"\n",
    "    response = generate_response(prompt)\n",
    "    print(json.dumps(response, indent=2))"
   ]
  },
  {
   "cell_type": "markdown",
   "metadata": {},
   "source": [
    "## PROMPT ENGINEERING"
   ]
  },
  {
   "cell_type": "markdown",
   "metadata": {},
   "source": [
    "### Designing a simple System prompt and just giving the response type"
   ]
  },
  {
   "cell_type": "code",
   "execution_count": null,
   "metadata": {},
   "outputs": [],
   "source": [
    "SYSTEM_PROMPT = (\n",
    "    \"You are an expert superforecaster, familiar with the work of Tetlock and others. \"\n",
    ")\n",
    "def base_prompt(query):\n",
    "    prompt = (\n",
    "        SYSTEM_PROMPT\n",
    "        + \"\\n\\n\"\n",
    "        + \"QUESTION: \" + query\n",
    "        + \"\\n\\n\"\n",
    "        + \"Return a structured response in JSON format\"\n",
    "        + \"containing the probability of the yes/no response to the question and a\"\n",
    "        + \"measure of confidence between 0 and 1.\"\n",
    "    )\n",
    "    return (\n",
    "        prompt\n",
    "    )"
   ]
  },
  {
   "cell_type": "code",
   "execution_count": null,
   "metadata": {},
   "outputs": [
    {
     "name": "stdout",
     "output_type": "stream",
     "text": [
      "{\n",
      "  \"question\": \"Will the Liberal Party win the most seats in the 2021 Canadian federal election?\",\n",
      "  \"answer\": {\n",
      "    \"yes\": 0.6,\n",
      "    \"no\": 0.4,\n",
      "    \"uncertainty\": 0.2,\n",
      "    \"confidence\": 0.9\n",
      "  },\n",
      "  \"explanation\": \"Based on current polling trends and historical voting patterns, the Liberal Party has a 60% chance (0.6) of winning the most seats in the 2021 Canadian federal election. The opposing Conservative Party has a 40% chance (0.4). This analysis is based on available data up to the current date and assumes no significant changes in public opinion or events between now and the election. The uncertainty factor is set at 10%, indicating a moderate level of confidence in this forecast.\"\n",
      "}\n"
     ]
    }
   ],
   "source": [
    "prompt = base_prompt(\"Will the Liberal Party win the most seats in the 2021 Canadian federal election?\")\n",
    "view_response(prompt)"
   ]
  },
  {
   "cell_type": "code",
   "execution_count": null,
   "metadata": {},
   "outputs": [
    {
     "name": "stdout",
     "output_type": "stream",
     "text": [
      "{\n",
      "  \"question\": \"Will the Liberal Party win the most seats in the 2021 Canadian federal election?\",\n",
      "  \"answer\": {\n",
      "    \"yes\": 0.65,\n",
      "    \"no\": 0.35\n",
      "  },\n",
      "  \"confidence\": 0.8,\n",
      "  \"explanation\": \"Based on current polling data and historical trends, the Liberal Party has a 65% chance of winning the most seats in the 2021 Canadian federal election. However, elections are subject to uncertainties and unexpected events. The confidence level for this prediction is 80%.\"\n",
      "}\n"
     ]
    }
   ],
   "source": [
    "prompt = base_prompt(\"Will the Liberal Party win the most seats in the 2021 Canadian federal election?\")\n",
    "view_response(prompt)"
   ]
  },
  {
   "cell_type": "code",
   "execution_count": null,
   "metadata": {},
   "outputs": [
    {
     "name": "stdout",
     "output_type": "stream",
     "text": [
      "{\n",
      "  \"question\": \"Will the Liberal Party win the most seats in the 2021 Canadian federal election?\",\n",
      "  \"answer\": {\n",
      "    \"yes\": 0.6,\n",
      "    \"no\": 0.4,\n",
      "    \"confidence\": 0.8\n",
      "  },\n",
      "  \"explanation\": \"Based on current polling data and historical voting trends, there is a 60% chance that the Liberal Party will win the most seats in the 2021 Canadian federal election. The confidence level for this prediction is high at 80%, but elections are inherently uncertain and events beyond our control may influence the outcome.\"\n",
      "}\n"
     ]
    }
   ],
   "source": [
    "prompt = base_prompt(\"Will the Liberal Party win the most seats in the 2021 Canadian federal election?\")\n",
    "view_response(prompt)"
   ]
  },
  {
   "cell_type": "markdown",
   "metadata": {},
   "source": [
    "#### NOTE: The responses vary to certain length both in reasoning and confidence. The strcuture of the json changes at times and is not consistent."
   ]
  },
  {
   "cell_type": "markdown",
   "metadata": {},
   "source": [
    "### Define the structure of response for reproducability"
   ]
  },
  {
   "cell_type": "code",
   "execution_count": 8,
   "metadata": {},
   "outputs": [],
   "source": [
    "from queries.constant import Questions"
   ]
  },
  {
   "cell_type": "code",
   "execution_count": 11,
   "metadata": {},
   "outputs": [],
   "source": [
    "SYSTEM_PROMPT = (\n",
    "    \"You are an expert superforecaster, familiar with the work of Tetlock and others. \"\n",
    ")\n",
    "\n",
    "\n",
    "def base_prompt(query):\n",
    "    prompt = (\n",
    "        SYSTEM_PROMPT\n",
    "        + \"\\n\\n\"\n",
    "        + \"QUESTION: \" + query\n",
    "        + \"\\n\\n\"\n",
    "        + \"Return a structured response in JSON format\"\n",
    "        + \"containing the probability of the yes/no response to the question and a\"\n",
    "        + \"measure of confidence between 0 and 1. Provide output in JSON format as follows:\"\n",
    "        + \"\"\"{\"answer\":{\"yes\": ..., \"no\": ...}, \"confidence\": ..., \"explanation\": ...}\"\"\"\n",
    "    )\n",
    "    return (\n",
    "        prompt\n",
    "    )\n",
    "\n",
    "\n",
    "def reproducability_test(prompt):\n",
    "    \"\"\"\n",
    "    Tests the reproducibility and consistency of the response for a prompt.\n",
    "    \"\"\"\n",
    "    for i in range(0, 3):\n",
    "        prompt = base_prompt(prompt)\n",
    "        print(\"TRIAL \" + str(i))\n",
    "        view_response(prompt)"
   ]
  },
  {
   "cell_type": "code",
   "execution_count": 14,
   "metadata": {},
   "outputs": [
    {
     "name": "stdout",
     "output_type": "stream",
     "text": [
      "{\n",
      "  \"answer\": {\n",
      "    \"yes\": 0.55,\n",
      "    \"no\": 0.45\n",
      "  },\n",
      "  \"confidence\": 0.8,\n",
      "  \"explanation\": \"Based on current polling trends and historical voting patterns, the Liberal Party has a slightly higher chance of winning the most seats in the 2021 Canadian federal election than the Conservative Party. However, there is still significant uncertainty due to various factors such as campaign performance, unexpected events, and voter turnout. Therefore, our confidence level is relatively low but we lean towards the Liberal Party having a edge in terms of seat count.\"\n",
      "}\n"
     ]
    }
   ],
   "source": [
    "prompt = base_prompt(Questions.QUESTION_1)\n",
    "view_response(prompt)"
   ]
  },
  {
   "cell_type": "code",
   "execution_count": 15,
   "metadata": {},
   "outputs": [
    {
     "name": "stdout",
     "output_type": "stream",
     "text": [
      "{\n",
      "  \"answer\": {\n",
      "    \"yes\": 0.25,\n",
      "    \"no\": 0.75\n",
      "  },\n",
      "  \"confidence\": 0.9,\n",
      "  \"explanation\": \"At this point in time, the odds of Armin Laschet becoming the next chancellor of Germany in 2022 are estimated to be around 25%. The Christian Democratic Union (CDU) leader is considered a strong contender, but several factors can influence the outcome of the German federal elections, such as campaign strategies, alliances, and unforeseen events. The current political landscape is also subject to change. Therefore, while there is a 25% chance that Armin Laschet will be the next chancellor, there is still uncertainty, which is reflected in a confidence level of 90%.\"\n",
      "}\n"
     ]
    }
   ],
   "source": [
    "prompt = base_prompt(Questions.QUESTION_2)\n",
    "view_response(prompt)"
   ]
  },
  {
   "cell_type": "markdown",
   "metadata": {},
   "source": [
    "#### REPRODUCABILITY ANALYSIS"
   ]
  },
  {
   "cell_type": "code",
   "execution_count": 16,
   "metadata": {},
   "outputs": [
    {
     "name": "stdout",
     "output_type": "stream",
     "text": [
      "TRIAL 0\n",
      "{\n",
      "  \"answer\": {\n",
      "    \"yes\": 0.65,\n",
      "    \"no\": 0.35\n",
      "  },\n",
      "  \"confidence\": 0.8,\n",
      "  \"explanation\": \"Based on current polling trends and historical voting patterns, the Liberal Party has a slightly better than average chance of winning the most seats in the 2021 Canadian federal election. However, elections can be influenced by many unforeseen factors, so the confidence level is not high.\"\n",
      "}\n",
      "TRIAL 1\n",
      "{\n",
      "  \"answer\": {\n",
      "    \"yes\": 0.65,\n",
      "    \"no\": 0.35\n",
      "  },\n",
      "  \"confidence\": 0.8,\n",
      "  \"explanation\": \"Based on current polling data and historical trends, the Liberal Party has a 65% chance of winning the most seats in the 2021 Canadian federal election. However, elections can be influenced by many unpredictable factors, so this prediction comes with a confidence level of 80%. The Liberal Party's strong performance in recent years and the leadership of Justin Trudeau make them a favorite, but there are still risks and uncertainties that could lead to a different outcome.\"\n",
      "}\n",
      "TRIAL 2\n",
      "{\n",
      "  \"answer\": {\n",
      "    \"yes\": 0.65,\n",
      "    \"no\": 0.35\n",
      "  },\n",
      "  \"confidence\": 0.8,\n",
      "  \"explanation\": \"According to current polling data and political trends, the Liberal Party is favored to win the most seats in the 2021 Canadian federal election. However, there are several factors that could influence the outcome such as voter turnout, campaign performance, and unforeseen events. Therefore, while the probability of a yes answer is relatively high, the confidence level remains moderate.\"\n",
      "}\n"
     ]
    }
   ],
   "source": [
    "reproducability_test(Questions.QUESTION_1)"
   ]
  },
  {
   "cell_type": "code",
   "execution_count": 17,
   "metadata": {},
   "outputs": [
    {
     "name": "stdout",
     "output_type": "stream",
     "text": [
      "TRIAL 0\n",
      "{\n",
      "  \"answer\": {\n",
      "    \"yes\": 0.25,\n",
      "    \"no\": 0.75\n",
      "  },\n",
      "  \"confidence\": 0.9,\n",
      "  \"explanation\": \"Armin Laschet is one of the leading candidates for the German Chancellorship in 2022, but there are several other strong contenders including Olaf Scholz and Annalena Baerbock. At this point, the odds seem to slightly favor a 'no' response due to the uncertainty surrounding the outcome of the political situation. However, given the volatility of elections and the possibility of unexpected events, our confidence in this prediction is relatively low.\"\n",
      "}\n",
      "TRIAL 1\n",
      "{\n",
      "  \"answer\": {\n",
      "    \"yes\": 0.25,\n",
      "    \"no\": 0.75\n",
      "  },\n",
      "  \"confidence\": 0.8,\n",
      "  \"explanation\": \"According to current polling data and political trends, Armin Laschet is considered a strong contender for the German Chancellorship in 2022. However, there are several factors that could influence the outcome of the election such as unexpected events or shifts in public opinion. Based on available information, I estimate the probability of him being the next chancellor to be 25%, with a confidence level of 80%.\"\n",
      "}\n",
      "TRIAL 2\n",
      "{\n",
      "  \"answer\": {\n",
      "    \"yes\": 0.35,\n",
      "    \"no\": 0.65\n",
      "  },\n",
      "  \"confidence\": 0.8,\n",
      "  \"explanation\": \"Armin Laschet is currently leading in the polls for the German Chancellor position in 2022. However, the race is still ongoing and there are other strong contenders such as Olaf Scholz and Friedrich Merz. Given the current state of the race, I assess a 35% probability that Armin Laschet will be the next chancellor, while the probability is 65% that he won't. The confidence level for this prediction is high at 80%, but it's important to note that political races can be volatile and unpredictable.\"\n",
      "}\n"
     ]
    }
   ],
   "source": [
    "reproducability_test(Questions.QUESTION_2)"
   ]
  },
  {
   "cell_type": "code",
   "execution_count": 24,
   "metadata": {},
   "outputs": [
    {
     "name": "stdout",
     "output_type": "stream",
     "text": [
      "TRIAL 0\n",
      "{\n",
      "  \"answer\": {\n",
      "    \"yes\": 0.95,\n",
      "    \"no\": 0.05\n",
      "  },\n",
      "  \"confidence\": 0.9,\n",
      "  \"explanation\": \"Based on current climate trends and temperature data, it is highly likely (95%) that NASA will record 2023 as one of the hottest years on record. However, there is still a small chance (5%) that another year could surpass it, so the confidence level is set at 90%.\"\n",
      "}\n",
      "TRIAL 1\n",
      "{\n",
      "  \"answer\": {\n",
      "    \"yes\": 0.35,\n",
      "    \"no\": 0.65\n",
      "  },\n",
      "  \"confidence\": 0.8,\n",
      "  \"explanation\": \"Based on current trends and climate model projections, it is likely that 2023 will be warmer than previous years due to human-induced greenhouse gas emissions and natural climate variability. However, there are several factors that could influence the global temperature trend in any given year, such as El Ni\\u00f1o or La Ni\\u00f1a events, volcanic eruptions, and weather patterns. Therefore, while it is plausible that NASA will record 2023 as the hottest year on record, there is still a significant chance (65%) that another year will surpass it before then. The confidence level for this prediction is 80%.\"\n",
      "}\n",
      "TRIAL 2\n",
      "{\n",
      "  \"answer\": {\n",
      "    \"yes\": 0.5,\n",
      "    \"no\": 0.5\n",
      "  },\n",
      "  \"confidence\": 0.7,\n",
      "  \"explanation\": \"According to NASA's data, the hottest year on record so far is 2016 with a global temperature of approximately 1.1\\u00b0C above pre-industrial levels. However, considering the increasing trend in global temperatures and the likelihood of new records being set each year, it is roughly equally likely that 2023 will be the hottest year on record or not. This assessment is based on current climate trends and does not account for potential climate interventions or natural climate variability.\"\n",
      "}\n"
     ]
    }
   ],
   "source": [
    "reproducability_test(Questions.QUESTION_3)"
   ]
  },
  {
   "cell_type": "code",
   "execution_count": 22,
   "metadata": {},
   "outputs": [
    {
     "name": "stdout",
     "output_type": "stream",
     "text": [
      "TRIAL 0\n",
      "{\n",
      "  \"answer\": {\n",
      "    \"yes\": 0.6,\n",
      "    \"no\": 0.4\n",
      "  },\n",
      "  \"confidence\": 0.7,\n",
      "  \"explanation\": \"Based on current market trends and analysis of historical data, the probability of Bitcoin's price being above $46,000 on April 14, 2022 is estimated to be 60%. However, it's important to note that the price of Bitcoin is subject to significant volatility and can be influenced by various factors such as regulatory actions, market sentiment, and technological developments. Therefore, the confidence level in this prediction is set at 70%.\"\n",
      "}\n",
      "TRIAL 1\n",
      "{\n",
      "  \"answer\": {\n",
      "    \"yes\": 0.55,\n",
      "    \"no\": 0.45\n",
      "  },\n",
      "  \"confidence\": 0.7,\n",
      "  \"explanation\": \"Based on current market trends and analysis, the price of Bitcoin (BTC) has been fluctuating around $46,000 in recent days. Given this, I assess a 55% probability that the price will be above $46,000 on April 14, 2022. However, there is significant uncertainty and volatility in the Bitcoin market, which reduces my confidence in this prediction to 70%.\"\n",
      "}\n",
      "TRIAL 2\n",
      "{\n",
      "  \"answer\": {\n",
      "    \"yes\": 0.6,\n",
      "    \"no\": 0.4\n",
      "  },\n",
      "  \"confidence\": 0.8,\n",
      "  \"explanation\": \"Based on current market trends and analysis by superforecasters, there is a 60% chance that the price of Bitcoin (BTC) will be above $46,000 on April 14, 2022. However, this prediction comes with a high degree of uncertainty and should not be taken as definitive. Factors such as regulatory changes, geopolitical events, and market sentiment can significantly impact the price of Bitcoin.\"\n",
      "}\n"
     ]
    }
   ],
   "source": [
    "reproducability_test(Questions.QUESTION_4)"
   ]
  },
  {
   "cell_type": "markdown",
   "metadata": {},
   "source": [
    "#### NOTE: The structure is consitent now. The responses are pretty consistent for politcal questions, that too for the questions that are before cut off date of the model. We can observe in the covid question, the model is having tough time in coming to any conclusion. This can depict the model's incompetency in forecasting based problems which might require a certain amount of domain knowledge or recent data around that time period.\n",
    "\n"
   ]
  }
 ],
 "metadata": {
  "kernelspec": {
   "display_name": "base",
   "language": "python",
   "name": "python3"
  },
  "language_info": {
   "codemirror_mode": {
    "name": "ipython",
    "version": 3
   },
   "file_extension": ".py",
   "mimetype": "text/x-python",
   "name": "python",
   "nbconvert_exporter": "python",
   "pygments_lexer": "ipython3",
   "version": "3.11.5"
  }
 },
 "nbformat": 4,
 "nbformat_minor": 2
}
