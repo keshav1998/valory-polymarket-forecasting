{
 "cells": [
  {
   "cell_type": "markdown",
   "metadata": {},
   "source": [
    "# LLM CAPABILITIES IN PREDICTION TASKS"
   ]
  },
  {
   "cell_type": "markdown",
   "metadata": {},
   "source": [
    "## LOAD CLIENT"
   ]
  },
  {
   "cell_type": "code",
   "execution_count": 1,
   "metadata": {},
   "outputs": [],
   "source": [
    "import json\n",
    "from ollama import Client\n",
    "\n",
    "# Initialize the client\n",
    "client = Client(host='http://localhost:11434', timeout=30)"
   ]
  },
  {
   "cell_type": "code",
   "execution_count": 2,
   "metadata": {},
   "outputs": [],
   "source": [
    "def generate_response(prompt):\n",
    "    \"\"\"\n",
    "    Generates a response using the Ollama API.\n",
    "    \"\"\"\n",
    "    response = client.generate( model='mistral',\n",
    "                prompt = prompt,\n",
    "                format=\"json\")\n",
    "    return json.loads(response[\"response\"])\n",
    "\n",
    "\n",
    "def view_response(prompt):\n",
    "    \"\"\"\n",
    "    Views a response using the Ollama API, in a structured format.\n",
    "    \"\"\"\n",
    "    response = generate_response(prompt)\n",
    "    print(json.dumps(response, indent=2))"
   ]
  },
  {
   "cell_type": "markdown",
   "metadata": {},
   "source": [
    "## PROMPT ENGINEERING"
   ]
  },
  {
   "cell_type": "markdown",
   "metadata": {},
   "source": [
    "### Designing a simple System prompt and just giving the response type"
   ]
  },
  {
   "cell_type": "code",
   "execution_count": null,
   "metadata": {},
   "outputs": [],
   "source": [
    "SYSTEM_PROMPT = (\n",
    "    \"You are an expert superforecaster, familiar with the work of Tetlock and others. \"\n",
    ")\n",
    "def base_prompt(query):\n",
    "    prompt = (\n",
    "        SYSTEM_PROMPT\n",
    "        + \"\\n\\n\"\n",
    "        + \"QUESTION: \" + query\n",
    "        + \"\\n\\n\"\n",
    "        + \"Return a structured response in JSON format\"\n",
    "        + \"containing the probability of the yes/no response to the question and a\"\n",
    "        + \"measure of confidence between 0 and 1.\"\n",
    "    )\n",
    "    return (\n",
    "        prompt\n",
    "    )"
   ]
  },
  {
   "cell_type": "code",
   "execution_count": null,
   "metadata": {},
   "outputs": [
    {
     "name": "stdout",
     "output_type": "stream",
     "text": [
      "{\n",
      "  \"question\": \"Will the Liberal Party win the most seats in the 2021 Canadian federal election?\",\n",
      "  \"answer\": {\n",
      "    \"yes\": 0.6,\n",
      "    \"no\": 0.4,\n",
      "    \"uncertainty\": 0.2,\n",
      "    \"confidence\": 0.9\n",
      "  },\n",
      "  \"explanation\": \"Based on current polling trends and historical voting patterns, the Liberal Party has a 60% chance (0.6) of winning the most seats in the 2021 Canadian federal election. The opposing Conservative Party has a 40% chance (0.4). This analysis is based on available data up to the current date and assumes no significant changes in public opinion or events between now and the election. The uncertainty factor is set at 10%, indicating a moderate level of confidence in this forecast.\"\n",
      "}\n"
     ]
    }
   ],
   "source": [
    "prompt = base_prompt(\"Will the Liberal Party win the most seats in the 2021 Canadian federal election?\")\n",
    "view_response(prompt)"
   ]
  },
  {
   "cell_type": "code",
   "execution_count": null,
   "metadata": {},
   "outputs": [
    {
     "name": "stdout",
     "output_type": "stream",
     "text": [
      "{\n",
      "  \"question\": \"Will the Liberal Party win the most seats in the 2021 Canadian federal election?\",\n",
      "  \"answer\": {\n",
      "    \"yes\": 0.65,\n",
      "    \"no\": 0.35\n",
      "  },\n",
      "  \"confidence\": 0.8,\n",
      "  \"explanation\": \"Based on current polling data and historical trends, the Liberal Party has a 65% chance of winning the most seats in the 2021 Canadian federal election. However, elections are subject to uncertainties and unexpected events. The confidence level for this prediction is 80%.\"\n",
      "}\n"
     ]
    }
   ],
   "source": [
    "prompt = base_prompt(\"Will the Liberal Party win the most seats in the 2021 Canadian federal election?\")\n",
    "view_response(prompt)"
   ]
  },
  {
   "cell_type": "code",
   "execution_count": null,
   "metadata": {},
   "outputs": [
    {
     "name": "stdout",
     "output_type": "stream",
     "text": [
      "{\n",
      "  \"question\": \"Will the Liberal Party win the most seats in the 2021 Canadian federal election?\",\n",
      "  \"answer\": {\n",
      "    \"yes\": 0.6,\n",
      "    \"no\": 0.4,\n",
      "    \"confidence\": 0.8\n",
      "  },\n",
      "  \"explanation\": \"Based on current polling data and historical voting trends, there is a 60% chance that the Liberal Party will win the most seats in the 2021 Canadian federal election. The confidence level for this prediction is high at 80%, but elections are inherently uncertain and events beyond our control may influence the outcome.\"\n",
      "}\n"
     ]
    }
   ],
   "source": [
    "prompt = base_prompt(\"Will the Liberal Party win the most seats in the 2021 Canadian federal election?\")\n",
    "view_response(prompt)"
   ]
  },
  {
   "cell_type": "markdown",
   "metadata": {},
   "source": [
    "#### NOTE: The responses vary to certain length both in reasoning and confidence. The strcuture of the json changes at times and is not consistent."
   ]
  },
  {
   "cell_type": "markdown",
   "metadata": {},
   "source": [
    "### Define the structure of response for reproducability"
   ]
  },
  {
   "cell_type": "code",
   "execution_count": 3,
   "metadata": {},
   "outputs": [],
   "source": [
    "from queries.constant import Questions"
   ]
  },
  {
   "cell_type": "code",
   "execution_count": 11,
   "metadata": {},
   "outputs": [],
   "source": [
    "SYSTEM_PROMPT = (\n",
    "    \"You are an expert superforecaster, familiar with the work of Tetlock and others. \"\n",
    ")\n",
    "\n",
    "\n",
    "def base_prompt(query):\n",
    "    prompt = (\n",
    "        SYSTEM_PROMPT\n",
    "        + \"\\n\\n\"\n",
    "        + \"QUESTION: \" + query\n",
    "        + \"\\n\\n\"\n",
    "        + \"Return a structured response in JSON format\"\n",
    "        + \"containing the probability of the yes/no response to the question and a\"\n",
    "        + \"measure of confidence between 0 and 1. Provide output in JSON format as follows:\"\n",
    "        + \"\"\"{\"answer\":{\"yes\": ..., \"no\": ...}, \"confidence\": ..., \"explanation\": ...}\"\"\"\n",
    "    )\n",
    "    return (\n",
    "        prompt\n",
    "    )\n",
    "\n",
    "\n",
    "def reproducability_test(prompt):\n",
    "    \"\"\"\n",
    "    Tests the reproducibility and consistency of the response for a prompt.\n",
    "    \"\"\"\n",
    "    for i in range(0, 3):\n",
    "        prompt = base_prompt(prompt)\n",
    "        print(\"TRIAL \" + str(i))\n",
    "        view_response(prompt)"
   ]
  },
  {
   "cell_type": "code",
   "execution_count": 14,
   "metadata": {},
   "outputs": [
    {
     "name": "stdout",
     "output_type": "stream",
     "text": [
      "{\n",
      "  \"answer\": {\n",
      "    \"yes\": 0.55,\n",
      "    \"no\": 0.45\n",
      "  },\n",
      "  \"confidence\": 0.8,\n",
      "  \"explanation\": \"Based on current polling trends and historical voting patterns, the Liberal Party has a slightly higher chance of winning the most seats in the 2021 Canadian federal election than the Conservative Party. However, there is still significant uncertainty due to various factors such as campaign performance, unexpected events, and voter turnout. Therefore, our confidence level is relatively low but we lean towards the Liberal Party having a edge in terms of seat count.\"\n",
      "}\n"
     ]
    }
   ],
   "source": [
    "prompt = base_prompt(Questions.QUESTION_1)\n",
    "view_response(prompt)"
   ]
  },
  {
   "cell_type": "code",
   "execution_count": 15,
   "metadata": {},
   "outputs": [
    {
     "name": "stdout",
     "output_type": "stream",
     "text": [
      "{\n",
      "  \"answer\": {\n",
      "    \"yes\": 0.25,\n",
      "    \"no\": 0.75\n",
      "  },\n",
      "  \"confidence\": 0.9,\n",
      "  \"explanation\": \"At this point in time, the odds of Armin Laschet becoming the next chancellor of Germany in 2022 are estimated to be around 25%. The Christian Democratic Union (CDU) leader is considered a strong contender, but several factors can influence the outcome of the German federal elections, such as campaign strategies, alliances, and unforeseen events. The current political landscape is also subject to change. Therefore, while there is a 25% chance that Armin Laschet will be the next chancellor, there is still uncertainty, which is reflected in a confidence level of 90%.\"\n",
      "}\n"
     ]
    }
   ],
   "source": [
    "prompt = base_prompt(Questions.QUESTION_2)\n",
    "view_response(prompt)"
   ]
  },
  {
   "cell_type": "markdown",
   "metadata": {},
   "source": [
    "#### REPRODUCABILITY ANALYSIS"
   ]
  },
  {
   "cell_type": "code",
   "execution_count": 16,
   "metadata": {},
   "outputs": [
    {
     "name": "stdout",
     "output_type": "stream",
     "text": [
      "TRIAL 0\n",
      "{\n",
      "  \"answer\": {\n",
      "    \"yes\": 0.65,\n",
      "    \"no\": 0.35\n",
      "  },\n",
      "  \"confidence\": 0.8,\n",
      "  \"explanation\": \"Based on current polling trends and historical voting patterns, the Liberal Party has a slightly better than average chance of winning the most seats in the 2021 Canadian federal election. However, elections can be influenced by many unforeseen factors, so the confidence level is not high.\"\n",
      "}\n",
      "TRIAL 1\n",
      "{\n",
      "  \"answer\": {\n",
      "    \"yes\": 0.65,\n",
      "    \"no\": 0.35\n",
      "  },\n",
      "  \"confidence\": 0.8,\n",
      "  \"explanation\": \"Based on current polling data and historical trends, the Liberal Party has a 65% chance of winning the most seats in the 2021 Canadian federal election. However, elections can be influenced by many unpredictable factors, so this prediction comes with a confidence level of 80%. The Liberal Party's strong performance in recent years and the leadership of Justin Trudeau make them a favorite, but there are still risks and uncertainties that could lead to a different outcome.\"\n",
      "}\n",
      "TRIAL 2\n",
      "{\n",
      "  \"answer\": {\n",
      "    \"yes\": 0.65,\n",
      "    \"no\": 0.35\n",
      "  },\n",
      "  \"confidence\": 0.8,\n",
      "  \"explanation\": \"According to current polling data and political trends, the Liberal Party is favored to win the most seats in the 2021 Canadian federal election. However, there are several factors that could influence the outcome such as voter turnout, campaign performance, and unforeseen events. Therefore, while the probability of a yes answer is relatively high, the confidence level remains moderate.\"\n",
      "}\n"
     ]
    }
   ],
   "source": [
    "reproducability_test(Questions.QUESTION_1)"
   ]
  },
  {
   "cell_type": "code",
   "execution_count": 17,
   "metadata": {},
   "outputs": [
    {
     "name": "stdout",
     "output_type": "stream",
     "text": [
      "TRIAL 0\n",
      "{\n",
      "  \"answer\": {\n",
      "    \"yes\": 0.25,\n",
      "    \"no\": 0.75\n",
      "  },\n",
      "  \"confidence\": 0.9,\n",
      "  \"explanation\": \"Armin Laschet is one of the leading candidates for the German Chancellorship in 2022, but there are several other strong contenders including Olaf Scholz and Annalena Baerbock. At this point, the odds seem to slightly favor a 'no' response due to the uncertainty surrounding the outcome of the political situation. However, given the volatility of elections and the possibility of unexpected events, our confidence in this prediction is relatively low.\"\n",
      "}\n",
      "TRIAL 1\n",
      "{\n",
      "  \"answer\": {\n",
      "    \"yes\": 0.25,\n",
      "    \"no\": 0.75\n",
      "  },\n",
      "  \"confidence\": 0.8,\n",
      "  \"explanation\": \"According to current polling data and political trends, Armin Laschet is considered a strong contender for the German Chancellorship in 2022. However, there are several factors that could influence the outcome of the election such as unexpected events or shifts in public opinion. Based on available information, I estimate the probability of him being the next chancellor to be 25%, with a confidence level of 80%.\"\n",
      "}\n",
      "TRIAL 2\n",
      "{\n",
      "  \"answer\": {\n",
      "    \"yes\": 0.35,\n",
      "    \"no\": 0.65\n",
      "  },\n",
      "  \"confidence\": 0.8,\n",
      "  \"explanation\": \"Armin Laschet is currently leading in the polls for the German Chancellor position in 2022. However, the race is still ongoing and there are other strong contenders such as Olaf Scholz and Friedrich Merz. Given the current state of the race, I assess a 35% probability that Armin Laschet will be the next chancellor, while the probability is 65% that he won't. The confidence level for this prediction is high at 80%, but it's important to note that political races can be volatile and unpredictable.\"\n",
      "}\n"
     ]
    }
   ],
   "source": [
    "reproducability_test(Questions.QUESTION_2)"
   ]
  },
  {
   "cell_type": "code",
   "execution_count": 24,
   "metadata": {},
   "outputs": [
    {
     "name": "stdout",
     "output_type": "stream",
     "text": [
      "TRIAL 0\n",
      "{\n",
      "  \"answer\": {\n",
      "    \"yes\": 0.95,\n",
      "    \"no\": 0.05\n",
      "  },\n",
      "  \"confidence\": 0.9,\n",
      "  \"explanation\": \"Based on current climate trends and temperature data, it is highly likely (95%) that NASA will record 2023 as one of the hottest years on record. However, there is still a small chance (5%) that another year could surpass it, so the confidence level is set at 90%.\"\n",
      "}\n",
      "TRIAL 1\n",
      "{\n",
      "  \"answer\": {\n",
      "    \"yes\": 0.35,\n",
      "    \"no\": 0.65\n",
      "  },\n",
      "  \"confidence\": 0.8,\n",
      "  \"explanation\": \"Based on current trends and climate model projections, it is likely that 2023 will be warmer than previous years due to human-induced greenhouse gas emissions and natural climate variability. However, there are several factors that could influence the global temperature trend in any given year, such as El Ni\\u00f1o or La Ni\\u00f1a events, volcanic eruptions, and weather patterns. Therefore, while it is plausible that NASA will record 2023 as the hottest year on record, there is still a significant chance (65%) that another year will surpass it before then. The confidence level for this prediction is 80%.\"\n",
      "}\n",
      "TRIAL 2\n",
      "{\n",
      "  \"answer\": {\n",
      "    \"yes\": 0.5,\n",
      "    \"no\": 0.5\n",
      "  },\n",
      "  \"confidence\": 0.7,\n",
      "  \"explanation\": \"According to NASA's data, the hottest year on record so far is 2016 with a global temperature of approximately 1.1\\u00b0C above pre-industrial levels. However, considering the increasing trend in global temperatures and the likelihood of new records being set each year, it is roughly equally likely that 2023 will be the hottest year on record or not. This assessment is based on current climate trends and does not account for potential climate interventions or natural climate variability.\"\n",
      "}\n"
     ]
    }
   ],
   "source": [
    "reproducability_test(Questions.QUESTION_3)"
   ]
  },
  {
   "cell_type": "code",
   "execution_count": 22,
   "metadata": {},
   "outputs": [
    {
     "name": "stdout",
     "output_type": "stream",
     "text": [
      "TRIAL 0\n",
      "{\n",
      "  \"answer\": {\n",
      "    \"yes\": 0.6,\n",
      "    \"no\": 0.4\n",
      "  },\n",
      "  \"confidence\": 0.7,\n",
      "  \"explanation\": \"Based on current market trends and analysis of historical data, the probability of Bitcoin's price being above $46,000 on April 14, 2022 is estimated to be 60%. However, it's important to note that the price of Bitcoin is subject to significant volatility and can be influenced by various factors such as regulatory actions, market sentiment, and technological developments. Therefore, the confidence level in this prediction is set at 70%.\"\n",
      "}\n",
      "TRIAL 1\n",
      "{\n",
      "  \"answer\": {\n",
      "    \"yes\": 0.55,\n",
      "    \"no\": 0.45\n",
      "  },\n",
      "  \"confidence\": 0.7,\n",
      "  \"explanation\": \"Based on current market trends and analysis, the price of Bitcoin (BTC) has been fluctuating around $46,000 in recent days. Given this, I assess a 55% probability that the price will be above $46,000 on April 14, 2022. However, there is significant uncertainty and volatility in the Bitcoin market, which reduces my confidence in this prediction to 70%.\"\n",
      "}\n",
      "TRIAL 2\n",
      "{\n",
      "  \"answer\": {\n",
      "    \"yes\": 0.6,\n",
      "    \"no\": 0.4\n",
      "  },\n",
      "  \"confidence\": 0.8,\n",
      "  \"explanation\": \"Based on current market trends and analysis by superforecasters, there is a 60% chance that the price of Bitcoin (BTC) will be above $46,000 on April 14, 2022. However, this prediction comes with a high degree of uncertainty and should not be taken as definitive. Factors such as regulatory changes, geopolitical events, and market sentiment can significantly impact the price of Bitcoin.\"\n",
      "}\n"
     ]
    }
   ],
   "source": [
    "reproducability_test(Questions.QUESTION_4)"
   ]
  },
  {
   "cell_type": "markdown",
   "metadata": {},
   "source": [
    "#### NOTE: The structure is consitent now. The responses are pretty consistent for politcal questions, that too for the questions that are before cut off date of the model. We can observe in the covid question, the model is having tough time in coming to any conclusion. This can depict the model's incompetency in forecasting based problems which might require a certain amount of domain knowledge or recent data around that time period.\n",
    "\n"
   ]
  },
  {
   "cell_type": "markdown",
   "metadata": {},
   "source": [
    "### ADDING CONTEXT WITH DOMAIN KNOWLEDGE TO THE PROMPT TO ANSWER THE QUESTION"
   ]
  },
  {
   "cell_type": "code",
   "execution_count": 25,
   "metadata": {},
   "outputs": [],
   "source": [
    "def base_prompt(query, context_str):\n",
    "    prompt = (\n",
    "        SYSTEM_PROMPT\n",
    "        + \"Context information is below.\\n\"\n",
    "        + \"---------------------\\n\"\n",
    "        + f\"{context_str}\\n\"\n",
    "        + \"---------------------\\n\"\n",
    "        + \"\\n\\n\"\n",
    "        + \"QUESTION: \" + query\n",
    "        + \"\\n\\n\"\n",
    "        + \"Return a structured response in JSON format\"\n",
    "        + \"containing the probability of the yes/no response to the question and a\"\n",
    "        + \"measure of confidence between 0 and 1. Provide output in JSON format as follows:\"\n",
    "        + \"\"\"{\"answer\":{\"yes\": ..., \"no\": ...}, \"confidence\": ..., \"explanation\": ...}\"\"\"\n",
    "    )\n",
    "    return (\n",
    "        prompt\n",
    "    )"
   ]
  },
  {
   "cell_type": "code",
   "execution_count": 27,
   "metadata": {},
   "outputs": [
    {
     "name": "stdout",
     "output_type": "stream",
     "text": [
      "{\n",
      "  \"answer\": {\n",
      "    \"yes\": 0.2,\n",
      "    \"no\": 0.8\n",
      "  },\n",
      "  \"confidence\": 0.7,\n",
      "  \"explanation\": \"Based on the available data and expertise in superforecasting, it is currently impossible to accurately predict the price of Bitcoin (BTC) on April 14, 2022 with a high degree of confidence. The historical trend of weekly COVID-19 cases from November 13, 2021 to December 18, 2021 was provided in the context and does not directly relate to the price of Bitcoin. The price of Bitcoin is influenced by various factors including but not limited to market sentiment, regulatory decisions, technological developments, and global economic conditions. A prediction with a probability of 20% for \",\n",
      "  \"yes\": \" and 80% for \",\n",
      "  \"no\": \" should be considered as highly uncertain.\"\n",
      "}\n"
     ]
    }
   ],
   "source": [
    "context_str = (\n",
    "    \"The historical trend of weekly covid cases from Nov 13, 2021 to Dec 18, 2021:\\n\"\n",
    "    \"November 13, 2021: 524,688 cases\\n\"\n",
    "    \"November 20, 2021: 529,885 cases\\n\"\n",
    "    \"November 27, 2021: 430,789 cases\\n\"\n",
    "    \"December 4, 2021: 561,474 cases\\n\"\n",
    "    \"December 11, 2021: 544,989 cases\\n\"\n",
    ")\n",
    "\n",
    "view_response(base_prompt(Questions.QUESTION_4, context_str))"
   ]
  },
  {
   "cell_type": "markdown",
   "metadata": {},
   "source": [
    "#### NOTE: Providing context information with historical answer, helped the model to be more accurate and correct."
   ]
  },
  {
   "cell_type": "code",
   "execution_count": 28,
   "metadata": {},
   "outputs": [
    {
     "name": "stdout",
     "output_type": "stream",
     "text": [
      "{\n",
      "  \"answer\": {\n",
      "    \"yes\": 0.2,\n",
      "    \"no\": 0.8\n",
      "  },\n",
      "  \"confidence\": 0.7,\n",
      "  \"explanation\": \"Based on the available information and expertise in forecasting trends, it is currently uncertain whether the price of Bitcoin will be above $46,000 on April 14, 2022. The historical trend of COVID-19 cases does not provide any relevant information for this question. The price of Bitcoin is influenced by various factors including market sentiment, regulatory environment, and technological developments. As a result, it's difficult to make an accurate prediction without considering these factors and the current state of the Bitcoin market.\"\n",
      "}\n"
     ]
    }
   ],
   "source": [
    "view_response(base_prompt(Questions.QUESTION_4, context_str))"
   ]
  },
  {
   "cell_type": "code",
   "execution_count": 29,
   "metadata": {},
   "outputs": [
    {
     "name": "stdout",
     "output_type": "stream",
     "text": [
      "{\n",
      "  \"answer\": {\n",
      "    \"yes\": 0.3,\n",
      "    \"no\": 0.7\n",
      "  },\n",
      "  \"confidence\": 0.8,\n",
      "  \"explanation\": \"Based on the available data and expert knowledge in superforecasting, it is not possible to directly predict the future price of Bitcoin with certainty based on historical COVID-19 case trends. However, given current market conditions, a probability of 30% for Bitcoin being above $46,000 on April 14, 2022, and a probability of 70% for it being below that level can be assigned. This assessment is subject to significant uncertainty and should not be considered as definitive.\"\n",
      "}\n"
     ]
    }
   ],
   "source": [
    "view_response(base_prompt(Questions.QUESTION_4, context_str))"
   ]
  },
  {
   "cell_type": "markdown",
   "metadata": {},
   "source": [
    "#### NOTE: The responses are also more reproducible now, as the context information about historical pattern of covid helps model in making more accurate responses"
   ]
  },
  {
   "cell_type": "code",
   "execution_count": 30,
   "metadata": {},
   "outputs": [
    {
     "name": "stdout",
     "output_type": "stream",
     "text": [
      "{\n",
      "  \"answer\": {\n",
      "    \"yes\": 0.55,\n",
      "    \"no\": 0.45\n",
      "  },\n",
      "  \"confidence\": 0.8,\n",
      "  \"explanation\": \"Based on current form and performance data from previous races, Max Verstappen has a slightly better chance of finishing ahead at the Saudi Arabia Grand Prix than Charles Leclerc, with a probability of approximately 55%. However, this prediction is subject to a high degree of uncertainty and could change based on various factors such as car performance, track conditions, and driver mistakes.\"\n",
      "}\n"
     ]
    }
   ],
   "source": [
    "context_str = \"This is a market on the higher placed finisher at the 2022 Saudi Arabia Grand Prix, Max Verstappen or Charles Leclerc. The race takes place over 50 laps of the 6.174-kilometer Jeddah Corniche Circuit on Sunday, March 27, 2022.\"\n",
    "\n",
    "view_response(base_prompt(Questions.QUESTION_6, context_str))"
   ]
  },
  {
   "cell_type": "code",
   "execution_count": 31,
   "metadata": {},
   "outputs": [
    {
     "name": "stdout",
     "output_type": "stream",
     "text": [
      "{\n",
      "  \"answer\": {\n",
      "    \"yes\": 0.55,\n",
      "    \"no\": 0.45\n",
      "  },\n",
      "  \"confidence\": 0.7,\n",
      "  \"explanation\": \"Both Max Verstappen and Charles Leclerc have shown strong performances in recent Formula 1 races. Max Verstappen is currently the World Champion, and Charles Leclerc has been consistently finishing on the podium as well. The Jeddah Corniche Circuit features long straightaways and high-speed corners, favoring cars with good power and aerodynamics. Both Red Bull Racing (Verstappen) and Ferrari (Leclerc) have competitive cars this season. Based on current form, I give a slightly higher probability to Max Verstappen finishing ahead at the Saudi Arabia Grand Prix. However, there are many variables involved in motorsports, including strategy, weather conditions, and unforeseen incidents that can affect the outcome. Thus, my confidence is moderate.\"\n",
      "}\n"
     ]
    }
   ],
   "source": [
    "view_response(base_prompt(Questions.QUESTION_6, context_str))"
   ]
  },
  {
   "cell_type": "markdown",
   "metadata": {},
   "source": [
    "### NOTES\n",
    "#### The model performs well when context string is provided which help the model in understading the back history of the question. Reproducability of the model is really good at this level, but this clearly demosntrates that for such type of question building a RAG pipeline which has a module\n",
    "#### for Information retrieval is really necesaar, especailly for the question that are post the knowledge cut off date."
   ]
  },
  {
   "cell_type": "markdown",
   "metadata": {},
   "source": [
    "# PROMPT OPTIMISATION"
   ]
  },
  {
   "cell_type": "markdown",
   "metadata": {},
   "source": [
    "### PROMPT CHAINING"
   ]
  },
  {
   "cell_type": "code",
   "execution_count": 3,
   "metadata": {},
   "outputs": [],
   "source": [
    "from src.prompt_chaining import PromptChaining"
   ]
  },
  {
   "cell_type": "code",
   "execution_count": 35,
   "metadata": {},
   "outputs": [
    {
     "name": "stdout",
     "output_type": "stream",
     "text": [
      "{\n",
      "  \"answer\": {\n",
      "    \"yes\": 0.5,\n",
      "    \"no\": 0.5\n",
      "  },\n",
      "  \"confidence\": 0.7,\n",
      "  \"explanation\": \"Based on the provided analysis and quotes, it is predicted that the Liberal Party has an equal chance (50%) of winning the most seats in the 2021 Canadian federal election. The outcome depends on various factors such as political trends, public opinion, party performance and strategies, and competing parties' platforms. This prediction should be considered with a moderate level of confidence (70%).\"\n",
      "}\n"
     ]
    }
   ],
   "source": [
    "source = json.loads(open(\"knowledge_base/canada.json\").read())\n",
    "\n",
    "chain = PromptChaining(client)\n",
    "print(chain.execute(source, Questions.QUESTION_1))"
   ]
  },
  {
   "cell_type": "code",
   "execution_count": 37,
   "metadata": {},
   "outputs": [
    {
     "name": "stdout",
     "output_type": "stream",
     "text": [
      "{\n",
      "  \"answer\": {\n",
      "    \"yes\": 0.2,\n",
      "    \"no\": 0.8\n",
      "  },\n",
      "  \"confidence\": 0.5,\n",
      "  \"explanation\": \"The document does not provide enough information to determine with certainty whether Armin Laschet will be the next Chancellor of Germany for 2022. The analysis focuses on various factors influencing the German federal election but does not directly address the question.\"\n",
      "}\n"
     ]
    }
   ],
   "source": [
    "source = json.loads(open(\"knowledge_base/chancellor.json\").read())\n",
    "\n",
    "chain = PromptChaining(client)\n",
    "print(chain.execute(source, Questions.QUESTION_2))"
   ]
  },
  {
   "cell_type": "code",
   "execution_count": 6,
   "metadata": {},
   "outputs": [
    {
     "name": "stdout",
     "output_type": "stream",
     "text": [
      "{\n",
      "  \"answer\": {\n",
      "    \"yes\": 0.6,\n",
      "    \"no\": 0.4\n",
      "  },\n",
      "  \"confidence\": 0.8,\n",
      "  \"explanation\": \"The analysis indicates a significant possibility that global temperatures could reach or exceed 1.03\\u00b0C above the 20th-century average in 2023, based on existing trends and potential for an El Ni\\u00f1o event. However, natural variability and unforeseen events introduce uncertainty into specific yearly forecasts.\"\n",
      "}\n"
     ]
    }
   ],
   "source": [
    "source = json.loads(open(\"knowledge_base/nasa.json\").read())\n",
    "\n",
    "chain = PromptChaining(client)\n",
    "print(chain.execute(source, Questions.QUESTION_3))"
   ]
  },
  {
   "cell_type": "code",
   "execution_count": 7,
   "metadata": {},
   "outputs": [
    {
     "name": "stdout",
     "output_type": "stream",
     "text": [
      "{\n",
      "  \"answer\": {\n",
      "    \"yes\": 0.6,\n",
      "    \"no\": 0.4\n",
      "  },\n",
      "  \"confidence\": 0.8,\n",
      "  \"explanation\": \"Based on the historical 7-day average price trend from February to April and the gradual increase during this period, there is a 60% chance that the price of Bitcoin (BTC) will be above $46,000 on April 14, 2022. However, it is important to note that cryptocurrency markets are inherently unpredictable and volatile, with external factors such as geopolitical events, regulatory changes, and market dynamics (supply and demand) having the potential to significantly influence Bitcoin's price within a short time frame. Therefore, while this analysis suggests a 60% probability of Bitcoin's price being above $46,000 on April 14, 2022, the confidence level for this prediction is relatively high at 80%.\"\n",
      "}\n"
     ]
    }
   ],
   "source": [
    "source = json.loads(open(\"knowledge_base/bitcoin.json\").read())\n",
    "\n",
    "chain = PromptChaining(client)\n",
    "print(chain.execute(source, Questions.QUESTION_4))"
   ]
  },
  {
   "cell_type": "code",
   "execution_count": 16,
   "metadata": {},
   "outputs": [
    {
     "name": "stdout",
     "output_type": "stream",
     "text": [
      "{\n",
      "  \"answer\": {\n",
      "    \"yes\": 0.3,\n",
      "    \"no\": 0.7\n",
      "  },\n",
      "  \"confidence\": 0.6,\n",
      "  \"explanation\": \"Based on the historical case data and considering the factors of vaccination rates, new variants, and public health policies discussed in the document, a detailed analysis indicates that there is a probability of 0.3 (or 30%) for the USA to report an average of 200,000 or more cases per week before January 1, 2022. However, the probability of 0.7 (or 70%) suggests that it is more likely for the weekly case numbers to be below 200,000. The confidence level for this prediction is set at 0.6.\"\n",
      "}\n"
     ]
    }
   ],
   "source": [
    "source = json.loads(open(\"knowledge_base/covid.json\").read())\n",
    "\n",
    "chain = PromptChaining(client)\n",
    "print(chain.execute(source, Questions.QUESTION_5))"
   ]
  },
  {
   "cell_type": "code",
   "execution_count": 12,
   "metadata": {},
   "outputs": [
    {
     "name": "stdout",
     "output_type": "stream",
     "text": [
      "{\n",
      "  \"answer\": {\n",
      "    \"yes\": 1,\n",
      "    \"no\": 0\n",
      "  },\n",
      "  \"confidence\": 1.0,\n",
      "  \"explanation\": \"The given quotes clearly state that predicting the winner between Max Verstappen and Charles Leclerc at the Saudi Arabia Grand Prix in 2022 involves considering their performances leading up to the season, the development and form of their respective teams, and their adaptability to the circuit's challenges. Hence, there is a definitive yes answer to the question.\"\n",
      "}\n"
     ]
    }
   ],
   "source": [
    "source = json.loads(open(\"knowledge_base/formula1.json\").read())\n",
    "\n",
    "chain = PromptChaining(client)\n",
    "print(chain.execute(source, Questions.QUESTION_6))"
   ]
  },
  {
   "cell_type": "markdown",
   "metadata": {},
   "source": [
    "### FLAG: The question asked above doesn't revolve around yes or no response but rather is asking us to choose between two options, the strucutred prompt focus on the yes or no response only \n",
    "### and shows the drawback of the structured prompt."
   ]
  },
  {
   "cell_type": "markdown",
   "metadata": {},
   "source": [
    "### PROMPT CHAINING RESULTS\n",
    "#### 1. The responses seem to be able to think better and have more context. Prompt chaining with added knowledge graph, helps model answering in more realistic ways.\n",
    "#### 2. While extracting important queries from the structured knowledge text, the model sometimes misses out key information or mis interprests what a specific key means, e.g. for the covid cases changing key from \"weekly_cases\" to \"7_day_average\", changed the response drastically and more accurate"
   ]
  },
  {
   "cell_type": "markdown",
   "metadata": {},
   "source": [
    "## REFORMULATE QUESTION"
   ]
  },
  {
   "cell_type": "code",
   "execution_count": 18,
   "metadata": {},
   "outputs": [],
   "source": [
    "from src.question_reformulator import QuestionReformulator"
   ]
  },
  {
   "cell_type": "code",
   "execution_count": 20,
   "metadata": {},
   "outputs": [
    {
     "data": {
      "text/plain": [
       "{'answer': {'yes': 0.45, 'no': 0.55},\n",
       " 'confidence': 0.7,\n",
       " 'explanation': \"Based on the analysis from multiple responses, it is estimated that the Liberal Party has a 45% chance of winning the most seats in the 2021 Canadian federal election. However, there is also a 55% chance that they may not win the most seats. The confidence level for this prediction is set at 70%, as multiple responses considered various factors such as historical trends, recent polling data, political alliances, and competing parties' strategies and platforms.\"}"
      ]
     },
     "execution_count": 20,
     "metadata": {},
     "output_type": "execute_result"
    }
   ],
   "source": [
    "reformulator = QuestionReformulator(client)\n",
    "question_list = reformulator.process_question(Questions.QUESTION_1)\n",
    "\n",
    "chain = PromptChaining(client)\n",
    "\n",
    "source = json.loads(open(\"knowledge_base/canada.json\").read())\n",
    "question_answer_list = []\n",
    "for question in question_list:\n",
    "    qa_string = f\"Question:{question}/n\"\n",
    "    qa_string += f\"Answer: {chain.execute(source, question)}\"\n",
    "    question_answer_list.append(qa_string)\n",
    "\n",
    "reformulator.multi_response_analysis(responses=\"\\n\".join(question_answer_list), question=Questions.QUESTION_1)"
   ]
  },
  {
   "cell_type": "code",
   "execution_count": 21,
   "metadata": {},
   "outputs": [
    {
     "data": {
      "text/plain": [
       "{'answer': {'yes': 0.3, 'no': 0.7},\n",
       " 'confidence': 0.8,\n",
       " 'explanation': \"The analysis of multiple responses suggests a 30% probability that Armin Laschet will be the next Chancellor of Germany for 2022 and a 70% chance that he won't. This assessment is based on a comprehensive evaluation of various factors such as policy focus, public opinion, coalition possibilities, economic and social issues, international relations, and environmental policies. However, there are uncertainties due to the complex nature of German politics and the dynamic nature of the election process.\"}"
      ]
     },
     "execution_count": 21,
     "metadata": {},
     "output_type": "execute_result"
    }
   ],
   "source": [
    "reformulator = QuestionReformulator(client)\n",
    "question_list = reformulator.process_question(Questions.QUESTION_2)\n",
    "\n",
    "chain = PromptChaining(client)\n",
    "\n",
    "source = json.loads(open(\"knowledge_base/chancellor.json\").read())\n",
    "question_answer_list = []\n",
    "for question in question_list:\n",
    "    qa_string = f\"Question:{question}/n\"\n",
    "    qa_string += f\"Answer: {chain.execute(source, question)}\"\n",
    "    question_answer_list.append(qa_string)\n",
    "\n",
    "reformulator.multi_response_analysis(responses=\"\\n\".join(question_answer_list), question=Questions.QUESTION_2)"
   ]
  },
  {
   "cell_type": "code",
   "execution_count": 22,
   "metadata": {},
   "outputs": [
    {
     "data": {
      "text/plain": [
       "{'answer': {'yes': 0.6, 'no': 0.4},\n",
       " 'confidence': 0.8,\n",
       " 'explanation': \"Based on multiple analyses of NASA's historical temperature data and considering the trends and potential factors that may influence global temperatures, there is a 60% chance (0.6 probability) that the year 2023 will be recorded as the hottest year on record (1.03°C or higher). However, natural variability and unforeseen events introduce some uncertainty into the prediction. Therefore, while there is a significant likelihood that global temperatures will reach this threshold in 2023, it is not certain and there remains some uncertainty due to these factors.\"}"
      ]
     },
     "execution_count": 22,
     "metadata": {},
     "output_type": "execute_result"
    }
   ],
   "source": [
    "reformulator = QuestionReformulator(client)\n",
    "question_list = reformulator.process_question(Questions.QUESTION_3)\n",
    "\n",
    "chain = PromptChaining(client)\n",
    "\n",
    "source = json.loads(open(\"knowledge_base/nasa.json\").read())\n",
    "question_answer_list = []\n",
    "for question in question_list:\n",
    "    qa_string = f\"Question:{question}/n\"\n",
    "    qa_string += f\"Answer: {chain.execute(source, question)}\"\n",
    "    question_answer_list.append(qa_string)\n",
    "\n",
    "reformulator.multi_response_analysis(responses=\"\\n\".join(question_answer_list), question=Questions.QUESTION_3)"
   ]
  },
  {
   "cell_type": "markdown",
   "metadata": {},
   "source": [
    "## MULTI PERSONA PROMPTING"
   ]
  },
  {
   "cell_type": "code",
   "execution_count": 6,
   "metadata": {},
   "outputs": [],
   "source": [
    "from src.prompts import SPP\n",
    "from src.SPP import SPPPrompting"
   ]
  },
  {
   "cell_type": "code",
   "execution_count": 7,
   "metadata": {},
   "outputs": [
    {
     "data": {
      "text/plain": [
       "{'answer': {'yes': 0.5, 'no': 0.5},\n",
       " 'confidence': 'Low',\n",
       " 'explanation': \"Predicting the outcome of the 2021 Canadian federal election involves analyzing a range of factors such as political trends, public opinion polls, Liberal Party performance, competing parties' strategies and platforms, electoral factors, and various considerations. Based on the available context information, it is assessed that the Liberal Party has an equal probability (50%) of winning the most seats in the 2021 Canadian federal election. However, the confidence level in this forecast is low due to numerous uncertainties, including economic conditions, social issues, global context, and potential shifts in voter preferences and turnout.\"}"
      ]
     },
     "execution_count": 7,
     "metadata": {},
     "output_type": "execute_result"
    }
   ],
   "source": [
    "spp = SPPPrompting(client)\n",
    "\n",
    "spp.generate_response(Questions.QUESTION_1, json.loads(open(\"knowledge_base/canada.json\").read()))"
   ]
  },
  {
   "cell_type": "code",
   "execution_count": 8,
   "metadata": {},
   "outputs": [
    {
     "data": {
      "text/plain": [
       "{'answer': {'yes': 0.3, 'no': 0.7},\n",
       " 'confidence': 'Medium',\n",
       " 'explanation': 'Determining whether Armin Laschet will be the next Chancellor of Germany for 2022 involves a complex analysis of the political landscape, including comparisons with his competitors, Olaf Scholz and Annalena Baerbock. Considerations include party standings, public opinion, potential coalition formations, economic and social issues, international relations, and environmental policies. Based on the available context information, Armin Laschet has a 30% chance of becoming Chancellor, while there is a 70% chance that he will not.'}"
      ]
     },
     "execution_count": 8,
     "metadata": {},
     "output_type": "execute_result"
    }
   ],
   "source": [
    "spp = SPPPrompting(client)\n",
    "\n",
    "spp.generate_response(Questions.QUESTION_2, json.loads(open(\"knowledge_base/chancellor.json\").read()))"
   ]
  },
  {
   "cell_type": "markdown",
   "metadata": {},
   "source": [
    "# FINE TUNING APPROACH"
   ]
  },
  {
   "cell_type": "markdown",
   "metadata": {},
   "source": [
    "### PREPARE FINE TUNING DATA:\n",
    "\n",
    "#### Fine tuning can be of various kinds depending on the size of dataset we have, Task specific finituning of LLMs leads to catastrophic forgetting. We should be targetting mutlitask finetuning approach, where our dataset contains examples that instruct the model to carry out a variety of tasks, including summarization, review rating, code translation, and entity recognition. You train the model on this mixed dataset so that it can improve the performance of the model on all the tasks simultaneously, thus avoiding the issue of catastrophic forgetting. \n",
    "\n",
    "#### For prediction of future sceniors ocerance on probability basis we need both contextual data to support the LLM in understand the past scenarios.\n",
    "#### INPUT : LLMs have a bottleneck of knowledge cut off, so the input should contain the pertaining question, supporting context data, the result expected data and dates of which past data should be considered of, supporting articles from various sources will add up to a larger knowledge base and maybe including crowd predictions if the data is available\n",
    "#### OUTPUT : The output should be in JSON format with the prediction of the future scenarios on probability basis with confidence level."
   ]
  },
  {
   "cell_type": "markdown",
   "metadata": {},
   "source": [
    "### DATASET FILTERING \n",
    "#### Selecting fine-tuning data.[1]\n",
    "\n",
    "#### We seek to fine-tune our model on strong forecasts. To select the data, we only keep outputs that give a lower Brier score than the crowd’s. However, this can inadvertently cause overconfidence in our fine-tuned model. To mitigate this, we discard pairs where the prediction deviates by more than \n",
    "#### 0.15 from the crowd prediction, and we also average our prediction with the crowd prediction when constructing the target output.\n",
    "\n",
    "REFERENCE:\n",
    "https://arxiv.org/html/2402.18563v1#S5"
   ]
  },
  {
   "cell_type": "markdown",
   "metadata": {},
   "source": [
    "#### FINE TUNING APPROACH\n",
    "\n",
    "#### PEFT base training where we adapt pre-trained language models efficiently to various applications by fine-tuning only a small set of parameters, reducing computational and storage costs. It combats catastrophic forgetting, adjusting key parameters for specific tasks, and delivers comparable performance to full fine-tuning\n",
    "\n",
    "#### Combining this with QLORA technique will bring the training computation time and resources.\n",
    "\n",
    "https://huggingface.co/blog/4bit-transformers-bitsandbytes"
   ]
  },
  {
   "cell_type": "markdown",
   "metadata": {},
   "source": [
    "### EVALUATION METRIC\n",
    "\n",
    "#### BRIER SCORE: (probability_of_event(0-1) - actual_event(0,1))^2\n",
    "\n",
    "#### We evaluate our optimised model on the test set, comparing the model response and it's probability with the actual event.\n",
    "#### Aggregate and Analyze the Brier Score\n",
    "#### Once we have the Brier scores for all predictions, you calculate the mean of these scores to get the overall Brier score for the model. This score will give us a single measure of the model's forecast accuracy.\n",
    "#### Reference:\n",
    "https://bmjopen.bmj.com/content/bmjopen/8/11/e024996/DC2/embed/inline-supplementary-material-2.pdf"
   ]
  }
 ],
 "metadata": {
  "kernelspec": {
   "display_name": "base",
   "language": "python",
   "name": "python3"
  },
  "language_info": {
   "codemirror_mode": {
    "name": "ipython",
    "version": 3
   },
   "file_extension": ".py",
   "mimetype": "text/x-python",
   "name": "python",
   "nbconvert_exporter": "python",
   "pygments_lexer": "ipython3",
   "version": "3.11.5"
  }
 },
 "nbformat": 4,
 "nbformat_minor": 2
}
